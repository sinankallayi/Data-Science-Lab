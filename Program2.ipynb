{
 "cells": [
  {
   "cell_type": "code",
   "execution_count": 19,
   "id": "4dc48c8d",
   "metadata": {},
   "outputs": [
    {
     "name": "stdout",
     "output_type": "stream",
     "text": [
      "Matrix Operation\n",
      "\n",
      "Matrix A:\n",
      " [[2 4]\n",
      " [6 3]]\n",
      "\n",
      "Matrix B:\n",
      " [[1 2]\n",
      " [3 5]]\n",
      "\n",
      "Addition:\n",
      " [[3 6]\n",
      " [9 8]]\n",
      "\n",
      "Substraction:\n",
      " [[ 1  2]\n",
      " [ 3 -2]]\n",
      "\n",
      "Multiplication (Element-wise):\n",
      " [[ 2  8]\n",
      " [18 15]]\n",
      "\n",
      "Multiplication (Row x Column):\n",
      " [[14 24]\n",
      " [15 27]]\n",
      "\n",
      "Transpose:\n",
      " [[2 6]\n",
      " [4 3]]\n"
     ]
    }
   ],
   "source": [
    "#matrix Operation\n",
    "import numpy as np\n",
    "print(\"Matrix Operation\")\n",
    "a=np.array([[2,4],[6,3]])\n",
    "b=np.array([[1,2],[3,5]])\n",
    "c=a+b\n",
    "d=a-b\n",
    "e=a*b\n",
    "f=np.dot(a,b)\n",
    "a_transpose=a.T\n",
    "print(\"\\nMatrix A:\\n\",a)\n",
    "print(\"\\nMatrix B:\\n\",b)\n",
    "print(\"\\nAddition:\\n\",c)\n",
    "print(\"\\nSubstraction:\\n\",d)\n",
    "print(\"\\nMultiplication (Element-wise):\\n\",e)\n",
    "print(\"\\nMultiplication (Row x Column):\\n\",f)\n",
    "print(\"\\nTranspose:\\n\",a_transpose)"
   ]
  },
  {
   "cell_type": "code",
   "execution_count": 8,
   "id": "b275b5e4",
   "metadata": {},
   "outputs": [
    {
     "name": "stdout",
     "output_type": "stream",
     "text": [
      "Original Matrix:\n",
      "[[1 2 3]\n",
      " [4 5 6]\n",
      " [7 8 9]]\n",
      "\n",
      "Reconstructed Matrix(with reduced dimensions):\n",
      "[[1. 2. 3.]\n",
      " [4. 5. 6.]\n",
      " [7. 8. 9.]]\n"
     ]
    }
   ],
   "source": [
    "#with SVD\n",
    "import numpy as np\n",
    "#create a sample matrix\n",
    "X=np.array([[1,2,3],[4,5,6],[7,8,9]])\n",
    "\n",
    "#perform SVD\n",
    "U,S,VT=np.linalg.svd(X)\n",
    "n_components=2\n",
    "X_reconstructed=np.dot(U[:,:n_components],np.dot(np.diag(S[:n_components]),VT[:n_components,:]))\n",
    "print(\"Original Matrix:\")\n",
    "print(X)\n",
    "print(\"\\nReconstructed Matrix(with reduced dimensions):\")\n",
    "print(X_reconstructed)"
   ]
  },
  {
   "cell_type": "code",
   "execution_count": null,
   "id": "59d50b43",
   "metadata": {},
   "outputs": [],
   "source": []
  }
 ],
 "metadata": {
  "kernelspec": {
   "display_name": "Python 3 (ipykernel)",
   "language": "python",
   "name": "python3"
  },
  "language_info": {
   "codemirror_mode": {
    "name": "ipython",
    "version": 3
   },
   "file_extension": ".py",
   "mimetype": "text/x-python",
   "name": "python",
   "nbconvert_exporter": "python",
   "pygments_lexer": "ipython3",
   "version": "3.11.4"
  }
 },
 "nbformat": 4,
 "nbformat_minor": 5
}
