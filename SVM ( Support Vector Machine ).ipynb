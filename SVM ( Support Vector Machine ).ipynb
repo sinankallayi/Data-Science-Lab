{
 "cells": [
  {
   "cell_type": "code",
   "execution_count": 4,
   "id": "18adefc6",
   "metadata": {},
   "outputs": [
    {
     "name": "stdout",
     "output_type": "stream",
     "text": [
      "Accuracy of SVM:1.00\n"
     ]
    }
   ],
   "source": [
    "# SVM ( Support Vector Machine )\n",
    "\n",
    "import numpy as np\n",
    "from sklearn.datasets import load_iris\n",
    "from sklearn.model_selection import train_test_split\n",
    "from sklearn.svm import SVC\n",
    "from sklearn.metrics import accuracy_score\n",
    "data=load_iris()\n",
    "X=data.data\n",
    "y=data.target\n",
    "X_train,X_test,y_train,y_test=train_test_split(X,y,test_size=0.2,random_state=42)\n",
    "svm_model=SVC(kernel='linear')\n",
    "svm_model.fit(X_train,y_train)\n",
    "y_pred=svm_model.predict(X_test)\n",
    "accuracy=accuracy_score(y_test,y_pred)\n",
    "print(f'Accuracy of SVM:{accuracy:.2f}')"
   ]
  }
 ],
 "metadata": {
  "kernelspec": {
   "display_name": "Python 3 (ipykernel)",
   "language": "python",
   "name": "python3"
  },
  "language_info": {
   "codemirror_mode": {
    "name": "ipython",
    "version": 3
   },
   "file_extension": ".py",
   "mimetype": "text/x-python",
   "name": "python",
   "nbconvert_exporter": "python",
   "pygments_lexer": "ipython3",
   "version": "3.10.12"
  }
 },
 "nbformat": 4,
 "nbformat_minor": 5
}
