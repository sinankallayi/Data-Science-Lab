{
 "cells": [
  {
   "cell_type": "code",
   "execution_count": 4,
   "id": "d7e3badc",
   "metadata": {},
   "outputs": [
    {
     "ename": "NameError",
     "evalue": "name 'f' is not defined",
     "output_type": "error",
     "traceback": [
      "\u001b[0;31m---------------------------------------------------------------------------\u001b[0m",
      "\u001b[0;31mNameError\u001b[0m                                 Traceback (most recent call last)",
      "Cell \u001b[0;32mIn[4], line 21\u001b[0m\n\u001b[1;32m     19\u001b[0m \u001b[38;5;66;03m#Calculate the accuracy of the model\u001b[39;00m\n\u001b[1;32m     20\u001b[0m accuracy\u001b[38;5;241m=\u001b[39maccuracy_score(y_test,y_pred)\n\u001b[0;32m---> 21\u001b[0m \u001b[38;5;28mprint\u001b[39m(f,\u001b[38;5;124m'\u001b[39m\u001b[38;5;124mAccuracy of k-NN with k=\u001b[39m\u001b[38;5;132;01m{k}\u001b[39;00m\u001b[38;5;124m:\u001b[39m\u001b[38;5;132;01m{accuracy:.2f}\u001b[39;00m\u001b[38;5;124m'\u001b[39m)\n",
      "\u001b[0;31mNameError\u001b[0m: name 'f' is not defined"
     ]
    }
   ],
   "source": [
    "import numpy as np\n",
    "from sklearn.datasets import load_iris\n",
    "from sklearn.model_selection import train_test_split\n",
    "from sklearn.neighbors import KNeighborsClassifier\n",
    "from sklearn.metrics import accuracy_score\n",
    "#Load the Iris dataset\n",
    "data=load_iris()\n",
    "X=data.data #Features\n",
    "y=data.target #Target(labels)\n",
    "#Split the dataset into training and testing sets\n",
    "X_train,X_test,y_train,y_test=train_test_split(X,y,test_size=0.2,random_state=42)\n",
    "#Initialize the k-NN classifier with a specified value of k\n",
    "k=3 #You can change this value as needed\n",
    "knn=KNeighborsClassifier(n_neighbors=k)\n",
    "#Fit the model on the training data\n",
    "knn.fit(X_train,y_train)\n",
    "#Make predictions on the test data\n",
    "y_pred=knn.predict(X_test)\n",
    "#Calculate the accuracy of the model\n",
    "accuracy=accuracy_score(y_test,y_pred)\n",
    "print(f,'Accuracy of k-NN with k={k}:{accuracy:.2f}')"
   ]
  },
  {
   "cell_type": "code",
   "execution_count": null,
   "id": "7d65760c",
   "metadata": {},
   "outputs": [],
   "source": []
  }
 ],
 "metadata": {
  "kernelspec": {
   "display_name": "Python 3 (ipykernel)",
   "language": "python",
   "name": "python3"
  },
  "language_info": {
   "codemirror_mode": {
    "name": "ipython",
    "version": 3
   },
   "file_extension": ".py",
   "mimetype": "text/x-python",
   "name": "python",
   "nbconvert_exporter": "python",
   "pygments_lexer": "ipython3",
   "version": "3.11.4"
  }
 },
 "nbformat": 4,
 "nbformat_minor": 5
}
