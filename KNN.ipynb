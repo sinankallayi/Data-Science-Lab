{
 "cells": [
  {
   "cell_type": "code",
   "execution_count": 5,
   "id": "9972e09a",
   "metadata": {},
   "outputs": [
    {
     "name": "stdout",
     "output_type": "stream",
     "text": [
      "Accuracy of k-NN with k=3:1.00\n"
     ]
    }
   ],
   "source": [
    "import numpy as np\n",
    "from sklearn.datasets import load_iris\n",
    "from sklearn.model_selection import train_test_split\n",
    "from sklearn.neighbors import KNeighborsClassifier\n",
    "from sklearn.metrics import accuracy_score\n",
    "#Load the Iris dataset\n",
    "data=load_iris()\n",
    "X=data.data #Features\n",
    "y=data.target #Target(labels)\n",
    "#Split the dataset into training and testing sets\n",
    "X_train,X_test,y_train,y_test=train_test_split(X,y,test_size=0.2,random_state=42)\n",
    "#Initialize the k-NN classifier with a specified value of k\n",
    "k=3 #You can change this value as needed\n",
    "knn=KNeighborsClassifier(n_neighbors=k)\n",
    "#Fit the model on the training data\n",
    "knn.fit(X_train,y_train)\n",
    "#Make predictions on the test data\n",
    "y_pred=knn.predict(X_test)\n",
    "#Calculate the accuracy of the model\n",
    "accuracy=accuracy_score(y_test,y_pred)\n",
    "print(f'Accuracy of k-NN with k={k}:{accuracy:.2f}')"
   ]
  },
  {
   "cell_type": "code",
   "execution_count": null,
   "id": "b88c5328",
   "metadata": {},
   "outputs": [],
   "source": []
  }
 ],
 "metadata": {
  "kernelspec": {
   "display_name": "Python 3 (ipykernel)",
   "language": "python",
   "name": "python3"
  },
  "language_info": {
   "codemirror_mode": {
    "name": "ipython",
    "version": 3
   },
   "file_extension": ".py",
   "mimetype": "text/x-python",
   "name": "python",
   "nbconvert_exporter": "python",
   "pygments_lexer": "ipython3",
   "version": "3.11.4"
  }
 },
 "nbformat": 4,
 "nbformat_minor": 5
}
