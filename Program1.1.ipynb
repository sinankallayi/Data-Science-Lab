{
 "cells": [
  {
   "cell_type": "code",
   "execution_count": 1,
   "id": "a07fe606",
   "metadata": {},
   "outputs": [
    {
     "name": "stdout",
     "output_type": "stream",
     "text": [
      "\n",
      "Number List: [5, 10, 2, 40, 8, 70, 10, 40]\n",
      "Largest Number in list: 70\n",
      "Remove duplicates [2, 5, 8, 10, 40, 70]\n"
     ]
    }
   ],
   "source": [
    "#list num\n",
    "\n",
    "num = [5,10,2,40,8,70,10,40]\n",
    "print('\\nNumber List:', num)\n",
    "num.sort()\n",
    "print('Largest Number in list:', num[-1])\n",
    "res = []\n",
    "for i in num:\n",
    "    if i not in res:\n",
    "        res.append(i)\n",
    "print(\"Remove duplicates\",res)"
   ]
  },
  {
   "cell_type": "code",
   "execution_count": 2,
   "id": "a831456f",
   "metadata": {},
   "outputs": [
    {
     "name": "stdout",
     "output_type": "stream",
     "text": [
      "enter the name :sinan\n",
      "enter the age:23\n",
      "first dictionary is: {'name': 'sinan', 'age': '23'}\n",
      "enter the color:black\n",
      "enter the flower name:sun flower\n",
      "second dictionary is: {'color': 'black', 'flower': 'sun flower'}\n",
      "merge dictionary is {'name': 'sinan', 'age': '23', 'color': 'black', 'flower': 'sun flower'}\n"
     ]
    }
   ],
   "source": [
    "#merge dictionaries\n",
    "\n",
    "d1={}\n",
    "name=input(\"enter the name :\")\n",
    "age=input(\"enter the age:\")\n",
    "d1['name']=name\n",
    "d1['age']=age\n",
    "print(\"first dictionary is:\",d1)\n",
    "d2={}\n",
    "color=input(\"enter the color:\")\n",
    "flower=input(\"enter the flower name:\")\n",
    "d2['color']=color\n",
    "d2['flower']=flower\n",
    "print(\"second dictionary is:\",d2)\n",
    "d3=d1\n",
    "d1.update(d2)\n",
    "print(\"merge dictionary is\",d3)"
   ]
  },
  {
   "cell_type": "code",
   "execution_count": 3,
   "id": "05e3fa06",
   "metadata": {},
   "outputs": [
    {
     "name": "stdout",
     "output_type": "stream",
     "text": [
      "True\n",
      "True\n",
      "List have at least one common member\n"
     ]
    }
   ],
   "source": [
    "#Common Member\n",
    "list1=[1,2,3,4,5,6]\n",
    "list2=[5,6,7,8,9,10]\n",
    "result=False\n",
    "for x in list1:\n",
    "    for y in list2:\n",
    "        if x==y:\n",
    "            result=True\n",
    "            print(result)\n",
    "if result:\n",
    "    print(\"List have at least one common member\")\n",
    "else:\n",
    "    print(\"List do not have any common member\")"
   ]
  },
  {
   "cell_type": "code",
   "execution_count": null,
   "id": "5732fc41",
   "metadata": {},
   "outputs": [],
   "source": []
  }
 ],
 "metadata": {
  "kernelspec": {
   "display_name": "Python 3 (ipykernel)",
   "language": "python",
   "name": "python3"
  },
  "language_info": {
   "codemirror_mode": {
    "name": "ipython",
    "version": 3
   },
   "file_extension": ".py",
   "mimetype": "text/x-python",
   "name": "python",
   "nbconvert_exporter": "python",
   "pygments_lexer": "ipython3",
   "version": "3.11.4"
  }
 },
 "nbformat": 4,
 "nbformat_minor": 5
}
